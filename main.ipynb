{
 "cells": [
  {
   "cell_type": "markdown",
   "metadata": {},
   "source": [
    "Library Support"
   ]
  },
  {
   "cell_type": "code",
   "execution_count": 1,
   "metadata": {},
   "outputs": [],
   "source": [
    "import pandas as pd           \n",
    "import matplotlib.pyplot as plt  \n",
    "from nltk.tokenize import word_tokenize\n",
    "from nltk.corpus import stopwords\n",
    "from nltk.stem import WordNetLemmatizer"
   ]
  },
  {
   "cell_type": "markdown",
   "metadata": {},
   "source": [
    "Import Dataset"
   ]
  },
  {
   "cell_type": "code",
   "execution_count": 2,
   "metadata": {},
   "outputs": [],
   "source": [
    "data=pd.read_csv(\"D:/Pyhton/Human Stress Prediction/Stress.csv\")"
   ]
  },
  {
   "cell_type": "markdown",
   "metadata": {},
   "source": [
    "Basic Data Exploration"
   ]
  },
  {
   "cell_type": "code",
   "execution_count": 3,
   "metadata": {},
   "outputs": [
    {
     "data": {
      "text/html": [
       "<div>\n",
       "<style scoped>\n",
       "    .dataframe tbody tr th:only-of-type {\n",
       "        vertical-align: middle;\n",
       "    }\n",
       "\n",
       "    .dataframe tbody tr th {\n",
       "        vertical-align: top;\n",
       "    }\n",
       "\n",
       "    .dataframe thead th {\n",
       "        text-align: right;\n",
       "    }\n",
       "</style>\n",
       "<table border=\"1\" class=\"dataframe\">\n",
       "  <thead>\n",
       "    <tr style=\"text-align: right;\">\n",
       "      <th></th>\n",
       "      <th>subreddit</th>\n",
       "      <th>post_id</th>\n",
       "      <th>sentence_range</th>\n",
       "      <th>text</th>\n",
       "      <th>label</th>\n",
       "      <th>confidence</th>\n",
       "      <th>social_timestamp</th>\n",
       "    </tr>\n",
       "  </thead>\n",
       "  <tbody>\n",
       "    <tr>\n",
       "      <th>0</th>\n",
       "      <td>ptsd</td>\n",
       "      <td>8601tu</td>\n",
       "      <td>(15, 20)</td>\n",
       "      <td>He said he had not felt that way before, sugge...</td>\n",
       "      <td>1</td>\n",
       "      <td>0.8</td>\n",
       "      <td>1521614353</td>\n",
       "    </tr>\n",
       "    <tr>\n",
       "      <th>1</th>\n",
       "      <td>assistance</td>\n",
       "      <td>8lbrx9</td>\n",
       "      <td>(0, 5)</td>\n",
       "      <td>Hey there r/assistance, Not sure if this is th...</td>\n",
       "      <td>0</td>\n",
       "      <td>1.0</td>\n",
       "      <td>1527009817</td>\n",
       "    </tr>\n",
       "    <tr>\n",
       "      <th>2</th>\n",
       "      <td>ptsd</td>\n",
       "      <td>9ch1zh</td>\n",
       "      <td>(15, 20)</td>\n",
       "      <td>My mom then hit me with the newspaper and it s...</td>\n",
       "      <td>1</td>\n",
       "      <td>0.8</td>\n",
       "      <td>1535935605</td>\n",
       "    </tr>\n",
       "    <tr>\n",
       "      <th>3</th>\n",
       "      <td>relationships</td>\n",
       "      <td>7rorpp</td>\n",
       "      <td>[5, 10]</td>\n",
       "      <td>until i met my new boyfriend, he is amazing, h...</td>\n",
       "      <td>1</td>\n",
       "      <td>0.6</td>\n",
       "      <td>1516429555</td>\n",
       "    </tr>\n",
       "    <tr>\n",
       "      <th>4</th>\n",
       "      <td>survivorsofabuse</td>\n",
       "      <td>9p2gbc</td>\n",
       "      <td>[0, 5]</td>\n",
       "      <td>October is Domestic Violence Awareness Month a...</td>\n",
       "      <td>1</td>\n",
       "      <td>0.8</td>\n",
       "      <td>1539809005</td>\n",
       "    </tr>\n",
       "  </tbody>\n",
       "</table>\n",
       "</div>"
      ],
      "text/plain": [
       "          subreddit post_id sentence_range  \\\n",
       "0              ptsd  8601tu       (15, 20)   \n",
       "1        assistance  8lbrx9         (0, 5)   \n",
       "2              ptsd  9ch1zh       (15, 20)   \n",
       "3     relationships  7rorpp        [5, 10]   \n",
       "4  survivorsofabuse  9p2gbc         [0, 5]   \n",
       "\n",
       "                                                text  label  confidence  \\\n",
       "0  He said he had not felt that way before, sugge...      1         0.8   \n",
       "1  Hey there r/assistance, Not sure if this is th...      0         1.0   \n",
       "2  My mom then hit me with the newspaper and it s...      1         0.8   \n",
       "3  until i met my new boyfriend, he is amazing, h...      1         0.6   \n",
       "4  October is Domestic Violence Awareness Month a...      1         0.8   \n",
       "\n",
       "   social_timestamp  \n",
       "0        1521614353  \n",
       "1        1527009817  \n",
       "2        1535935605  \n",
       "3        1516429555  \n",
       "4        1539809005  "
      ]
     },
     "execution_count": 3,
     "metadata": {},
     "output_type": "execute_result"
    }
   ],
   "source": [
    "data.iloc[:5]"
   ]
  },
  {
   "cell_type": "code",
   "execution_count": 4,
   "metadata": {},
   "outputs": [
    {
     "data": {
      "text/plain": [
       "'He said he had not felt that way before, suggeted I go rest and so ..TRIGGER AHEAD IF YOUI\\'RE A HYPOCONDRIAC LIKE ME: i decide to look up \"feelings of doom\" in hopes of maybe getting sucked into some rabbit hole of ludicrous conspiracy, a stupid \"are you psychic\" test or new age b.s., something I could even laugh at down the road. No, I ended up reading that this sense of doom can be indicative of various health ailments; one of which I am prone to.. So on top of my \"doom\" to my gloom..I am now f\\'n worried about my heart. I do happen to have a physical in 48 hours.'"
      ]
     },
     "execution_count": 4,
     "metadata": {},
     "output_type": "execute_result"
    }
   ],
   "source": [
    "data.iloc[0]['text']"
   ]
  },
  {
   "cell_type": "code",
   "execution_count": 5,
   "metadata": {},
   "outputs": [
    {
     "data": {
      "image/png": "[encoded data removed]",
      "text/plain": [
       "<Figure size 1600x600 with 1 Axes>"
      ]
     },
     "metadata": {},
     "output_type": "display_data"
    }
   ],
   "source": [
    "ax=(data['label'].value_counts(normalize=True)*100).sort_values().plot(kind='barh',figsize=(16,6),title='Target Distribution')\n",
    "for a in ax.containers:\n",
    "    plt.bar_label(a,fmt='%.2f%%')\n",
    "plt.show()"
   ]
  },
  {
   "cell_type": "markdown",
   "metadata": {},
   "source": [
    "Data Cleaning"
   ]
  },
  {
   "cell_type": "code",
   "execution_count": 6,
   "metadata": {},
   "outputs": [],
   "source": [
    "def show(df):\n",
    "    for index,content in enumerate(df):\n",
    "        if index <= 5:\n",
    "            print(content)\n",
    "        else:\n",
    "            break"
   ]
  },
  {
   "cell_type": "markdown",
   "metadata": {},
   "source": [
    "i) Clean Text"
   ]
  },
  {
   "cell_type": "code",
   "execution_count": 7,
   "metadata": {},
   "outputs": [],
   "source": [
    "import re \n",
    "import string\n",
    "\n",
    "def wordopt(text):\n",
    "    text = text.lower()\n",
    "    text = re.sub('\\[.*?\\]', '', text)\n",
    "    text = re.sub(\"\\\\W\",\" \",text) \n",
    "    text = re.sub('https?://\\S+|www\\.\\S+', '', text)\n",
    "    text = re.sub('<.*?>+', '', text)\n",
    "    text = re.sub('[%s]' % re.escape(string.punctuation), '', text)\n",
    "    text = re.sub('\\n', '', text)\n",
    "    text = re.sub('\\w*\\d\\w*', '', text)    \n",
    "    return text"
   ]
  },
  {
   "cell_type": "code",
   "execution_count": 8,
   "metadata": {},
   "outputs": [],
   "source": [
    "data['text']=data['text'].apply(wordopt)"
   ]
  },
  {
   "cell_type": "code",
   "execution_count": 9,
   "metadata": {},
   "outputs": [
    {
     "name": "stdout",
     "output_type": "stream",
     "text": [
      "he said he had not felt that way before  suggeted i go rest and so   trigger ahead if youi re a hypocondriac like me  i decide to look up  feelings of doom  in hopes of maybe getting sucked into some rabbit hole of ludicrous conspiracy  a stupid  are you psychic  test or new age b s   something i could even laugh at down the road  no  i ended up reading that this sense of doom can be indicative of various health ailments  one of which i am prone to   so on top of my  doom  to my gloom  i am now f n worried about my heart  i do happen to have a physical in  hours \n",
      "hey there r assistance  not sure if this is the right place to post this   but here goes    i m currently a student intern at sandia national labs and working on a survey to help improve our marketing outreach efforts at the many schools we recruit at around the country  we re looking for current undergrad grad stem students so if you re a stem student or know stem students  i would greatly appreciate if you can help take or pass along this short survey  as a thank you  everyone who helps take the survey will be entered in to a drawing for chance to win one of three   amazon gcs \n",
      "my mom then hit me with the newspaper and it shocked me that she would do this  she knows i don t like play hitting  smacking  striking  hitting or violence of any sort on my person  do i send out this vibe asking for it from the universe  then yesterday i decided to take my friend to go help another  friend  move to a new place  while we were driving the friend we are moving strikes me on my shoulder  and i address it immediately because this is the  time i have told him not to do these things  then my other friend who is driving nearly gets into an collision with another car i think because he was high on marijuana and the friend we are moving in the backseat is like  you have to understand i was just trying to get your attention  you know the thing  year olds do to get peoples attention by smacking them  this guy is in his  s \n",
      "until i met my new boyfriend  he is amazing  he is kind  he is sweet  he is a good student  he likes the same things as me  my family likes him  and so on    but i dont feel that passion that rush i felt with my ex  the truth is that when i started going out with my boyfriend i secretly saw my ex a few times to see if i really didnt feel nothing for him  but it was disgusting  i didnt even want him to touch me  i feel bad with myself i didnt want him  but still  i was there  then i kinda realized i felt nothing love related for him and it was ok  he was hurt when he knew i was dating this boy and he even begged me to stay but of course not  but now the problem is that when im with my boyfriend i dont feel like i love him  like that thing you kinda have to feel with a new love  i just feel  ok  with him  and i catch myself thinking about my ex from time to time  remembering all the good things we had and it drives me crazy because i know that if i see him again i wont feel that way  that  love  that my mind makes me think stills there  and recently i found out that he has a girl and he is actually enjoying the experience and i got so mad and so hurt  i know i dont have any right to feel that way  i felt betrayed and i still feel that way  i gross myself out \n",
      "october is domestic violence awareness month and i am a domestic violence survivor who is still struggling  even after over four years  lately i have been feeling very angry  angry that my abusive ex received no real consequences for his actions  this man abused me in all manners  physically  sexually  emotionally  verbally  financially  etc  i was granted a restraining order against him  and it was renewed a year later  but i was unable to press criminal charges against him because i didn t have enough evidence to have a case \n",
      "i think he doesn t want to put in the effort for the relationship to work  and we re both so difficult that we have to work on our relationships  doesn t matter with whom  but he can t be without me either  what should i do  i m afraid this is gonna happen over and over again  because i m always forgiving him at some point  am i being strung along  tl dr  boyfriend  broke up with me  after on off for   years  i thought we just got it together and am devastated   don t know what to do  want to keep fighting but should i \n"
     ]
    }
   ],
   "source": [
    "show(data['text'])"
   ]
  },
  {
   "cell_type": "markdown",
   "metadata": {},
   "source": [
    "ii) Tokenization"
   ]
  },
  {
   "cell_type": "code",
   "execution_count": 10,
   "metadata": {},
   "outputs": [],
   "source": [
    "data['text']=data['text'].apply(word_tokenize)"
   ]
  },
  {
   "cell_type": "code",
   "execution_count": 11,
   "metadata": {},
   "outputs": [
    {
     "name": "stdout",
     "output_type": "stream",
     "text": [
      "['he', 'said', 'he', 'had', 'not', 'felt', 'that', 'way', 'before', 'suggeted', 'i', 'go', 'rest', 'and', 'so', 'trigger', 'ahead', 'if', 'youi', 're', 'a', 'hypocondriac', 'like', 'me', 'i', 'decide', 'to', 'look', 'up', 'feelings', 'of', 'doom', 'in', 'hopes', 'of', 'maybe', 'getting', 'sucked', 'into', 'some', 'rabbit', 'hole', 'of', 'ludicrous', 'conspiracy', 'a', 'stupid', 'are', 'you', 'psychic', 'test', 'or', 'new', 'age', 'b', 's', 'something', 'i', 'could', 'even', 'laugh', 'at', 'down', 'the', 'road', 'no', 'i', 'ended', 'up', 'reading', 'that', 'this', 'sense', 'of', 'doom', 'can', 'be', 'indicative', 'of', 'various', 'health', 'ailments', 'one', 'of', 'which', 'i', 'am', 'prone', 'to', 'so', 'on', 'top', 'of', 'my', 'doom', 'to', 'my', 'gloom', 'i', 'am', 'now', 'f', 'n', 'worried', 'about', 'my', 'heart', 'i', 'do', 'happen', 'to', 'have', 'a', 'physical', 'in', 'hours']\n",
      "['hey', 'there', 'r', 'assistance', 'not', 'sure', 'if', 'this', 'is', 'the', 'right', 'place', 'to', 'post', 'this', 'but', 'here', 'goes', 'i', 'm', 'currently', 'a', 'student', 'intern', 'at', 'sandia', 'national', 'labs', 'and', 'working', 'on', 'a', 'survey', 'to', 'help', 'improve', 'our', 'marketing', 'outreach', 'efforts', 'at', 'the', 'many', 'schools', 'we', 'recruit', 'at', 'around', 'the', 'country', 'we', 're', 'looking', 'for', 'current', 'undergrad', 'grad', 'stem', 'students', 'so', 'if', 'you', 're', 'a', 'stem', 'student', 'or', 'know', 'stem', 'students', 'i', 'would', 'greatly', 'appreciate', 'if', 'you', 'can', 'help', 'take', 'or', 'pass', 'along', 'this', 'short', 'survey', 'as', 'a', 'thank', 'you', 'everyone', 'who', 'helps', 'take', 'the', 'survey', 'will', 'be', 'entered', 'in', 'to', 'a', 'drawing', 'for', 'chance', 'to', 'win', 'one', 'of', 'three', 'amazon', 'gcs']\n",
      "['my', 'mom', 'then', 'hit', 'me', 'with', 'the', 'newspaper', 'and', 'it', 'shocked', 'me', 'that', 'she', 'would', 'do', 'this', 'she', 'knows', 'i', 'don', 't', 'like', 'play', 'hitting', 'smacking', 'striking', 'hitting', 'or', 'violence', 'of', 'any', 'sort', 'on', 'my', 'person', 'do', 'i', 'send', 'out', 'this', 'vibe', 'asking', 'for', 'it', 'from', 'the', 'universe', 'then', 'yesterday', 'i', 'decided', 'to', 'take', 'my', 'friend', 'to', 'go', 'help', 'another', 'friend', 'move', 'to', 'a', 'new', 'place', 'while', 'we', 'were', 'driving', 'the', 'friend', 'we', 'are', 'moving', 'strikes', 'me', 'on', 'my', 'shoulder', 'and', 'i', 'address', 'it', 'immediately', 'because', 'this', 'is', 'the', 'time', 'i', 'have', 'told', 'him', 'not', 'to', 'do', 'these', 'things', 'then', 'my', 'other', 'friend', 'who', 'is', 'driving', 'nearly', 'gets', 'into', 'an', 'collision', 'with', 'another', 'car', 'i', 'think', 'because', 'he', 'was', 'high', 'on', 'marijuana', 'and', 'the', 'friend', 'we', 'are', 'moving', 'in', 'the', 'backseat', 'is', 'like', 'you', 'have', 'to', 'understand', 'i', 'was', 'just', 'trying', 'to', 'get', 'your', 'attention', 'you', 'know', 'the', 'thing', 'year', 'olds', 'do', 'to', 'get', 'peoples', 'attention', 'by', 'smacking', 'them', 'this', 'guy', 'is', 'in', 'his', 's']\n",
      "['until', 'i', 'met', 'my', 'new', 'boyfriend', 'he', 'is', 'amazing', 'he', 'is', 'kind', 'he', 'is', 'sweet', 'he', 'is', 'a', 'good', 'student', 'he', 'likes', 'the', 'same', 'things', 'as', 'me', 'my', 'family', 'likes', 'him', 'and', 'so', 'on', 'but', 'i', 'dont', 'feel', 'that', 'passion', 'that', 'rush', 'i', 'felt', 'with', 'my', 'ex', 'the', 'truth', 'is', 'that', 'when', 'i', 'started', 'going', 'out', 'with', 'my', 'boyfriend', 'i', 'secretly', 'saw', 'my', 'ex', 'a', 'few', 'times', 'to', 'see', 'if', 'i', 'really', 'didnt', 'feel', 'nothing', 'for', 'him', 'but', 'it', 'was', 'disgusting', 'i', 'didnt', 'even', 'want', 'him', 'to', 'touch', 'me', 'i', 'feel', 'bad', 'with', 'myself', 'i', 'didnt', 'want', 'him', 'but', 'still', 'i', 'was', 'there', 'then', 'i', 'kinda', 'realized', 'i', 'felt', 'nothing', 'love', 'related', 'for', 'him', 'and', 'it', 'was', 'ok', 'he', 'was', 'hurt', 'when', 'he', 'knew', 'i', 'was', 'dating', 'this', 'boy', 'and', 'he', 'even', 'begged', 'me', 'to', 'stay', 'but', 'of', 'course', 'not', 'but', 'now', 'the', 'problem', 'is', 'that', 'when', 'im', 'with', 'my', 'boyfriend', 'i', 'dont', 'feel', 'like', 'i', 'love', 'him', 'like', 'that', 'thing', 'you', 'kinda', 'have', 'to', 'feel', 'with', 'a', 'new', 'love', 'i', 'just', 'feel', 'ok', 'with', 'him', 'and', 'i', 'catch', 'myself', 'thinking', 'about', 'my', 'ex', 'from', 'time', 'to', 'time', 'remembering', 'all', 'the', 'good', 'things', 'we', 'had', 'and', 'it', 'drives', 'me', 'crazy', 'because', 'i', 'know', 'that', 'if', 'i', 'see', 'him', 'again', 'i', 'wont', 'feel', 'that', 'way', 'that', 'love', 'that', 'my', 'mind', 'makes', 'me', 'think', 'stills', 'there', 'and', 'recently', 'i', 'found', 'out', 'that', 'he', 'has', 'a', 'girl', 'and', 'he', 'is', 'actually', 'enjoying', 'the', 'experience', 'and', 'i', 'got', 'so', 'mad', 'and', 'so', 'hurt', 'i', 'know', 'i', 'dont', 'have', 'any', 'right', 'to', 'feel', 'that', 'way', 'i', 'felt', 'betrayed', 'and', 'i', 'still', 'feel', 'that', 'way', 'i', 'gross', 'myself', 'out']\n",
      "['october', 'is', 'domestic', 'violence', 'awareness', 'month', 'and', 'i', 'am', 'a', 'domestic', 'violence', 'survivor', 'who', 'is', 'still', 'struggling', 'even', 'after', 'over', 'four', 'years', 'lately', 'i', 'have', 'been', 'feeling', 'very', 'angry', 'angry', 'that', 'my', 'abusive', 'ex', 'received', 'no', 'real', 'consequences', 'for', 'his', 'actions', 'this', 'man', 'abused', 'me', 'in', 'all', 'manners', 'physically', 'sexually', 'emotionally', 'verbally', 'financially', 'etc', 'i', 'was', 'granted', 'a', 'restraining', 'order', 'against', 'him', 'and', 'it', 'was', 'renewed', 'a', 'year', 'later', 'but', 'i', 'was', 'unable', 'to', 'press', 'criminal', 'charges', 'against', 'him', 'because', 'i', 'didn', 't', 'have', 'enough', 'evidence', 'to', 'have', 'a', 'case']\n",
      "['i', 'think', 'he', 'doesn', 't', 'want', 'to', 'put', 'in', 'the', 'effort', 'for', 'the', 'relationship', 'to', 'work', 'and', 'we', 're', 'both', 'so', 'difficult', 'that', 'we', 'have', 'to', 'work', 'on', 'our', 'relationships', 'doesn', 't', 'matter', 'with', 'whom', 'but', 'he', 'can', 't', 'be', 'without', 'me', 'either', 'what', 'should', 'i', 'do', 'i', 'm', 'afraid', 'this', 'is', 'gon', 'na', 'happen', 'over', 'and', 'over', 'again', 'because', 'i', 'm', 'always', 'forgiving', 'him', 'at', 'some', 'point', 'am', 'i', 'being', 'strung', 'along', 'tl', 'dr', 'boyfriend', 'broke', 'up', 'with', 'me', 'after', 'on', 'off', 'for', 'years', 'i', 'thought', 'we', 'just', 'got', 'it', 'together', 'and', 'am', 'devastated', 'don', 't', 'know', 'what', 'to', 'do', 'want', 'to', 'keep', 'fighting', 'but', 'should', 'i']\n"
     ]
    }
   ],
   "source": [
    "show(data['text'])"
   ]
  },
  {
   "cell_type": "markdown",
   "metadata": {},
   "source": [
    "iii) Remove Stopwords"
   ]
  },
  {
   "cell_type": "code",
   "execution_count": 12,
   "metadata": {},
   "outputs": [],
   "source": [
    "def remove_stopwords(text):\n",
    "    stpw=set(stopwords.words('english'))\n",
    "    filtered_text=[word for word in text if word not in stpw]\n",
    "    return filtered_text"
   ]
  },
  {
   "cell_type": "code",
   "execution_count": 13,
   "metadata": {},
   "outputs": [],
   "source": [
    "data['text']=data['text'].apply(remove_stopwords)"
   ]
  },
  {
   "cell_type": "code",
   "execution_count": 14,
   "metadata": {},
   "outputs": [
    {
     "name": "stdout",
     "output_type": "stream",
     "text": [
      "['said', 'felt', 'way', 'suggeted', 'go', 'rest', 'trigger', 'ahead', 'youi', 'hypocondriac', 'like', 'decide', 'look', 'feelings', 'doom', 'hopes', 'maybe', 'getting', 'sucked', 'rabbit', 'hole', 'ludicrous', 'conspiracy', 'stupid', 'psychic', 'test', 'new', 'age', 'b', 'something', 'could', 'even', 'laugh', 'road', 'ended', 'reading', 'sense', 'doom', 'indicative', 'various', 'health', 'ailments', 'one', 'prone', 'top', 'doom', 'gloom', 'f', 'n', 'worried', 'heart', 'happen', 'physical', 'hours']\n",
      "['hey', 'r', 'assistance', 'sure', 'right', 'place', 'post', 'goes', 'currently', 'student', 'intern', 'sandia', 'national', 'labs', 'working', 'survey', 'help', 'improve', 'marketing', 'outreach', 'efforts', 'many', 'schools', 'recruit', 'around', 'country', 'looking', 'current', 'undergrad', 'grad', 'stem', 'students', 'stem', 'student', 'know', 'stem', 'students', 'would', 'greatly', 'appreciate', 'help', 'take', 'pass', 'along', 'short', 'survey', 'thank', 'everyone', 'helps', 'take', 'survey', 'entered', 'drawing', 'chance', 'win', 'one', 'three', 'amazon', 'gcs']\n",
      "['mom', 'hit', 'newspaper', 'shocked', 'would', 'knows', 'like', 'play', 'hitting', 'smacking', 'striking', 'hitting', 'violence', 'sort', 'person', 'send', 'vibe', 'asking', 'universe', 'yesterday', 'decided', 'take', 'friend', 'go', 'help', 'another', 'friend', 'move', 'new', 'place', 'driving', 'friend', 'moving', 'strikes', 'shoulder', 'address', 'immediately', 'time', 'told', 'things', 'friend', 'driving', 'nearly', 'gets', 'collision', 'another', 'car', 'think', 'high', 'marijuana', 'friend', 'moving', 'backseat', 'like', 'understand', 'trying', 'get', 'attention', 'know', 'thing', 'year', 'olds', 'get', 'peoples', 'attention', 'smacking', 'guy']\n",
      "['met', 'new', 'boyfriend', 'amazing', 'kind', 'sweet', 'good', 'student', 'likes', 'things', 'family', 'likes', 'dont', 'feel', 'passion', 'rush', 'felt', 'ex', 'truth', 'started', 'going', 'boyfriend', 'secretly', 'saw', 'ex', 'times', 'see', 'really', 'didnt', 'feel', 'nothing', 'disgusting', 'didnt', 'even', 'want', 'touch', 'feel', 'bad', 'didnt', 'want', 'still', 'kinda', 'realized', 'felt', 'nothing', 'love', 'related', 'ok', 'hurt', 'knew', 'dating', 'boy', 'even', 'begged', 'stay', 'course', 'problem', 'im', 'boyfriend', 'dont', 'feel', 'like', 'love', 'like', 'thing', 'kinda', 'feel', 'new', 'love', 'feel', 'ok', 'catch', 'thinking', 'ex', 'time', 'time', 'remembering', 'good', 'things', 'drives', 'crazy', 'know', 'see', 'wont', 'feel', 'way', 'love', 'mind', 'makes', 'think', 'stills', 'recently', 'found', 'girl', 'actually', 'enjoying', 'experience', 'got', 'mad', 'hurt', 'know', 'dont', 'right', 'feel', 'way', 'felt', 'betrayed', 'still', 'feel', 'way', 'gross']\n",
      "['october', 'domestic', 'violence', 'awareness', 'month', 'domestic', 'violence', 'survivor', 'still', 'struggling', 'even', 'four', 'years', 'lately', 'feeling', 'angry', 'angry', 'abusive', 'ex', 'received', 'real', 'consequences', 'actions', 'man', 'abused', 'manners', 'physically', 'sexually', 'emotionally', 'verbally', 'financially', 'etc', 'granted', 'restraining', 'order', 'renewed', 'year', 'later', 'unable', 'press', 'criminal', 'charges', 'enough', 'evidence', 'case']\n",
      "['think', 'want', 'put', 'effort', 'relationship', 'work', 'difficult', 'work', 'relationships', 'matter', 'without', 'either', 'afraid', 'gon', 'na', 'happen', 'always', 'forgiving', 'point', 'strung', 'along', 'tl', 'dr', 'boyfriend', 'broke', 'years', 'thought', 'got', 'together', 'devastated', 'know', 'want', 'keep', 'fighting']\n"
     ]
    }
   ],
   "source": [
    "show(data['text'])"
   ]
  },
  {
   "cell_type": "markdown",
   "metadata": {},
   "source": [
    "iv) Lemmatization"
   ]
  },
  {
   "cell_type": "code",
   "execution_count": 15,
   "metadata": {},
   "outputs": [],
   "source": [
    "def lemmatize_words(text):\n",
    "    lemmer=WordNetLemmatizer()\n",
    "    lemmatized_text=[lemmer.lemmatize(word,pos='v') for word in text]\n",
    "    return lemmatized_text"
   ]
  },
  {
   "cell_type": "code",
   "execution_count": 16,
   "metadata": {},
   "outputs": [],
   "source": [
    "data['text']=data['text'].apply(lemmatize_words)"
   ]
  },
  {
   "cell_type": "code",
   "execution_count": 17,
   "metadata": {},
   "outputs": [
    {
     "name": "stdout",
     "output_type": "stream",
     "text": [
      "['say', 'felt', 'way', 'suggeted', 'go', 'rest', 'trigger', 'ahead', 'youi', 'hypocondriac', 'like', 'decide', 'look', 'feel', 'doom', 'hop', 'maybe', 'get', 'suck', 'rabbit', 'hole', 'ludicrous', 'conspiracy', 'stupid', 'psychic', 'test', 'new', 'age', 'b', 'something', 'could', 'even', 'laugh', 'road', 'end', 'read', 'sense', 'doom', 'indicative', 'various', 'health', 'ailments', 'one', 'prone', 'top', 'doom', 'gloom', 'f', 'n', 'worry', 'heart', 'happen', 'physical', 'hours']\n",
      "['hey', 'r', 'assistance', 'sure', 'right', 'place', 'post', 'go', 'currently', 'student', 'intern', 'sandia', 'national', 'labs', 'work', 'survey', 'help', 'improve', 'market', 'outreach', 'efforts', 'many', 'school', 'recruit', 'around', 'country', 'look', 'current', 'undergrad', 'grad', 'stem', 'students', 'stem', 'student', 'know', 'stem', 'students', 'would', 'greatly', 'appreciate', 'help', 'take', 'pass', 'along', 'short', 'survey', 'thank', 'everyone', 'help', 'take', 'survey', 'enter', 'draw', 'chance', 'win', 'one', 'three', 'amazon', 'gcs']\n",
      "['mom', 'hit', 'newspaper', 'shock', 'would', 'know', 'like', 'play', 'hit', 'smack', 'strike', 'hit', 'violence', 'sort', 'person', 'send', 'vibe', 'ask', 'universe', 'yesterday', 'decide', 'take', 'friend', 'go', 'help', 'another', 'friend', 'move', 'new', 'place', 'drive', 'friend', 'move', 'strike', 'shoulder', 'address', 'immediately', 'time', 'tell', 'things', 'friend', 'drive', 'nearly', 'get', 'collision', 'another', 'car', 'think', 'high', 'marijuana', 'friend', 'move', 'backseat', 'like', 'understand', 'try', 'get', 'attention', 'know', 'thing', 'year', 'olds', 'get', 'people', 'attention', 'smack', 'guy']\n",
      "['meet', 'new', 'boyfriend', 'amaze', 'kind', 'sweet', 'good', 'student', 'like', 'things', 'family', 'like', 'dont', 'feel', 'passion', 'rush', 'felt', 'ex', 'truth', 'start', 'go', 'boyfriend', 'secretly', 'saw', 'ex', 'time', 'see', 'really', 'didnt', 'feel', 'nothing', 'disgust', 'didnt', 'even', 'want', 'touch', 'feel', 'bad', 'didnt', 'want', 'still', 'kinda', 'realize', 'felt', 'nothing', 'love', 'relate', 'ok', 'hurt', 'know', 'date', 'boy', 'even', 'beg', 'stay', 'course', 'problem', 'im', 'boyfriend', 'dont', 'feel', 'like', 'love', 'like', 'thing', 'kinda', 'feel', 'new', 'love', 'feel', 'ok', 'catch', 'think', 'ex', 'time', 'time', 'remember', 'good', 'things', 'drive', 'crazy', 'know', 'see', 'wont', 'feel', 'way', 'love', 'mind', 'make', 'think', 'still', 'recently', 'find', 'girl', 'actually', 'enjoy', 'experience', 'get', 'mad', 'hurt', 'know', 'dont', 'right', 'feel', 'way', 'felt', 'betray', 'still', 'feel', 'way', 'gross']\n",
      "['october', 'domestic', 'violence', 'awareness', 'month', 'domestic', 'violence', 'survivor', 'still', 'struggle', 'even', 'four', 'years', 'lately', 'feel', 'angry', 'angry', 'abusive', 'ex', 'receive', 'real', 'consequences', 'action', 'man', 'abuse', 'manners', 'physically', 'sexually', 'emotionally', 'verbally', 'financially', 'etc', 'grant', 'restrain', 'order', 'renew', 'year', 'later', 'unable', 'press', 'criminal', 'charge', 'enough', 'evidence', 'case']\n",
      "['think', 'want', 'put', 'effort', 'relationship', 'work', 'difficult', 'work', 'relationships', 'matter', 'without', 'either', 'afraid', 'gon', 'na', 'happen', 'always', 'forgive', 'point', 'string', 'along', 'tl', 'dr', 'boyfriend', 'break', 'years', 'think', 'get', 'together', 'devastate', 'know', 'want', 'keep', 'fight']\n"
     ]
    }
   ],
   "source": [
    "show(data['text'])"
   ]
  },
  {
   "cell_type": "code",
   "execution_count": 18,
   "metadata": {},
   "outputs": [],
   "source": [
    "data['length']=data['text'].apply(lambda x : len(x))"
   ]
  },
  {
   "cell_type": "markdown",
   "metadata": {},
   "source": [
    "v) Create a Corpus"
   ]
  },
  {
   "cell_type": "code",
   "execution_count": 19,
   "metadata": {},
   "outputs": [],
   "source": [
    "data['text']=data['text'].apply(lambda x : ' '.join([index for index in x]))"
   ]
  },
  {
   "cell_type": "code",
   "execution_count": 20,
   "metadata": {},
   "outputs": [
    {
     "name": "stdout",
     "output_type": "stream",
     "text": [
      "say felt way suggeted go rest trigger ahead youi hypocondriac like decide look feel doom hop maybe get suck rabbit hole ludicrous conspiracy stupid psychic test new age b something could even laugh road end read sense doom indicative various health ailments one prone top doom gloom f n worry heart happen physical hours\n",
      "hey r assistance sure right place post go currently student intern sandia national labs work survey help improve market outreach efforts many school recruit around country look current undergrad grad stem students stem student know stem students would greatly appreciate help take pass along short survey thank everyone help take survey enter draw chance win one three amazon gcs\n",
      "mom hit newspaper shock would know like play hit smack strike hit violence sort person send vibe ask universe yesterday decide take friend go help another friend move new place drive friend move strike shoulder address immediately time tell things friend drive nearly get collision another car think high marijuana friend move backseat like understand try get attention know thing year olds get people attention smack guy\n",
      "meet new boyfriend amaze kind sweet good student like things family like dont feel passion rush felt ex truth start go boyfriend secretly saw ex time see really didnt feel nothing disgust didnt even want touch feel bad didnt want still kinda realize felt nothing love relate ok hurt know date boy even beg stay course problem im boyfriend dont feel like love like thing kinda feel new love feel ok catch think ex time time remember good things drive crazy know see wont feel way love mind make think still recently find girl actually enjoy experience get mad hurt know dont right feel way felt betray still feel way gross\n",
      "october domestic violence awareness month domestic violence survivor still struggle even four years lately feel angry angry abusive ex receive real consequences action man abuse manners physically sexually emotionally verbally financially etc grant restrain order renew year later unable press criminal charge enough evidence case\n",
      "think want put effort relationship work difficult work relationships matter without either afraid gon na happen always forgive point string along tl dr boyfriend break years think get together devastate know want keep fight\n"
     ]
    }
   ],
   "source": [
    "show(data['text'])"
   ]
  },
  {
   "cell_type": "markdown",
   "metadata": {},
   "source": [
    "Model Developement"
   ]
  },
  {
   "cell_type": "code",
   "execution_count": 21,
   "metadata": {},
   "outputs": [],
   "source": [
    "from sklearn.model_selection import train_test_split,GridSearchCV\n",
    "from sklearn.feature_extraction.text import TfidfVectorizer\n",
    "from sklearn.metrics import accuracy_score,confusion_matrix,ConfusionMatrixDisplay\n",
    "from sklearn.svm import SVC"
   ]
  },
  {
   "cell_type": "markdown",
   "metadata": {},
   "source": [
    "i) Choose Relevant Features"
   ]
  },
  {
   "cell_type": "code",
   "execution_count": 22,
   "metadata": {},
   "outputs": [],
   "source": [
    "X=data['text']\n",
    "y=data['label']"
   ]
  },
  {
   "cell_type": "markdown",
   "metadata": {},
   "source": [
    "ii) Split into Train/Test Sets"
   ]
  },
  {
   "cell_type": "code",
   "execution_count": 23,
   "metadata": {},
   "outputs": [],
   "source": [
    "X_train,X_val,y_train,y_val=train_test_split(X,y,stratify=y,test_size=0.25)"
   ]
  },
  {
   "cell_type": "markdown",
   "metadata": {},
   "source": [
    "iii) Vectorization"
   ]
  },
  {
   "cell_type": "code",
   "execution_count": 24,
   "metadata": {},
   "outputs": [],
   "source": [
    "vect=TfidfVectorizer()"
   ]
  },
  {
   "cell_type": "code",
   "execution_count": 25,
   "metadata": {},
   "outputs": [],
   "source": [
    "X_train=vect.fit_transform(X_train)\n",
    "X_val=vect.transform(X_val)"
   ]
  },
  {
   "cell_type": "markdown",
   "metadata": {},
   "source": [
    "iv) Build and Fit Model"
   ]
  },
  {
   "cell_type": "code",
   "execution_count": 26,
   "metadata": {},
   "outputs": [
    {
     "data": {
      "text/html": [
       "<style>#sk-container-id-1 {color: black;}#sk-container-id-1 pre{padding: 0;}#sk-container-id-1 div.sk-toggleable {background-color: white;}#sk-container-id-1 label.sk-toggleable__label {cursor: pointer;display: block;width: 100%;margin-bottom: 0;padding: 0.3em;box-sizing: border-box;text-align: center;}#sk-container-id-1 label.sk-toggleable__label-arrow:before {content: \"▸\";float: left;margin-right: 0.25em;color: #696969;}#sk-container-id-1 label.sk-toggleable__label-arrow:hover:before {color: black;}#sk-container-id-1 div.sk-estimator:hover label.sk-toggleable__label-arrow:before {color: black;}#sk-container-id-1 div.sk-toggleable__content {max-height: 0;max-width: 0;overflow: hidden;text-align: left;background-color: #f0f8ff;}#sk-container-id-1 div.sk-toggleable__content pre {margin: 0.2em;color: black;border-radius: 0.25em;background-color: #f0f8ff;}#sk-container-id-1 input.sk-toggleable__control:checked~div.sk-toggleable__content {max-height: 200px;max-width: 100%;overflow: auto;}#sk-container-id-1 input.sk-toggleable__control:checked~label.sk-toggleable__label-arrow:before {content: \"▾\";}#sk-container-id-1 div.sk-estimator input.sk-toggleable__control:checked~label.sk-toggleable__label {background-color: #d4ebff;}#sk-container-id-1 div.sk-label input.sk-toggleable__control:checked~label.sk-toggleable__label {background-color: #d4ebff;}#sk-container-id-1 input.sk-hidden--visually {border: 0;clip: rect(1px 1px 1px 1px);clip: rect(1px, 1px, 1px, 1px);height: 1px;margin: -1px;overflow: hidden;padding: 0;position: absolute;width: 1px;}#sk-container-id-1 div.sk-estimator {font-family: monospace;background-color: #f0f8ff;border: 1px dotted black;border-radius: 0.25em;box-sizing: border-box;margin-bottom: 0.5em;}#sk-container-id-1 div.sk-estimator:hover {background-color: #d4ebff;}#sk-container-id-1 div.sk-parallel-item::after {content: \"\";width: 100%;border-bottom: 1px solid gray;flex-grow: 1;}#sk-container-id-1 div.sk-label:hover label.sk-toggleable__label {background-color: #d4ebff;}#sk-container-id-1 div.sk-serial::before {content: \"\";position: absolute;border-left: 1px solid gray;box-sizing: border-box;top: 0;bottom: 0;left: 50%;z-index: 0;}#sk-container-id-1 div.sk-serial {display: flex;flex-direction: column;align-items: center;background-color: white;padding-right: 0.2em;padding-left: 0.2em;position: relative;}#sk-container-id-1 div.sk-item {position: relative;z-index: 1;}#sk-container-id-1 div.sk-parallel {display: flex;align-items: stretch;justify-content: center;background-color: white;position: relative;}#sk-container-id-1 div.sk-item::before, #sk-container-id-1 div.sk-parallel-item::before {content: \"\";position: absolute;border-left: 1px solid gray;box-sizing: border-box;top: 0;bottom: 0;left: 50%;z-index: -1;}#sk-container-id-1 div.sk-parallel-item {display: flex;flex-direction: column;z-index: 1;position: relative;background-color: white;}#sk-container-id-1 div.sk-parallel-item:first-child::after {align-self: flex-end;width: 50%;}#sk-container-id-1 div.sk-parallel-item:last-child::after {align-self: flex-start;width: 50%;}#sk-container-id-1 div.sk-parallel-item:only-child::after {width: 0;}#sk-container-id-1 div.sk-dashed-wrapped {border: 1px dashed gray;margin: 0 0.4em 0.5em 0.4em;box-sizing: border-box;padding-bottom: 0.4em;background-color: white;}#sk-container-id-1 div.sk-label label {font-family: monospace;font-weight: bold;display: inline-block;line-height: 1.2em;}#sk-container-id-1 div.sk-label-container {text-align: center;}#sk-container-id-1 div.sk-container {/* jupyter's `normalize.less` sets `[hidden] { display: none; }` but bootstrap.min.css set `[hidden] { display: none !important; }` so we also need the `!important` here to be able to override the default hidden behavior on the sphinx rendered scikit-learn.org. See: https://github.com/scikit-learn/scikit-learn/issues/21755 */display: inline-block !important;position: relative;}#sk-container-id-1 div.sk-text-repr-fallback {display: none;}</style><div id=\"sk-container-id-1\" class=\"sk-top-container\"><div class=\"sk-text-repr-fallback\"><pre>SVC()</pre><b>In a Jupyter environment, please rerun this cell to show the HTML representation or trust the notebook. <br />On GitHub, the HTML representation is unable to render, please try loading this page with nbviewer.org.</b></div><div class=\"sk-container\" hidden><div class=\"sk-item\"><div class=\"sk-estimator sk-toggleable\"><input class=\"sk-toggleable__control sk-hidden--visually\" id=\"sk-estimator-id-1\" type=\"checkbox\" checked><label for=\"sk-estimator-id-1\" class=\"sk-toggleable__label sk-toggleable__label-arrow\">SVC</label><div class=\"sk-toggleable__content\"><pre>SVC()</pre></div></div></div></div></div>"
      ],
      "text/plain": [
       "SVC()"
      ]
     },
     "execution_count": 26,
     "metadata": {},
     "output_type": "execute_result"
    }
   ],
   "source": [
    "model=SVC()\n",
    "model.fit(X_train,y_train)"
   ]
  },
  {
   "cell_type": "markdown",
   "metadata": {},
   "source": [
    "v) Model Evaluation"
   ]
  },
  {
   "cell_type": "code",
   "execution_count": 27,
   "metadata": {},
   "outputs": [
    {
     "data": {
      "text/plain": [
       "0.747887323943662"
      ]
     },
     "execution_count": 27,
     "metadata": {},
     "output_type": "execute_result"
    }
   ],
   "source": [
    "y_pred=model.predict(X_val)\n",
    "accuracy_score(y_val,y_pred)"
   ]
  },
  {
   "cell_type": "code",
   "execution_count": 28,
   "metadata": {},
   "outputs": [
    {
     "data": {
      "text/plain": [
       "<sklearn.metrics._plot.confusion_matrix.ConfusionMatrixDisplay at 0x1daf2ee4790>"
      ]
     },
     "execution_count": 28,
     "metadata": {},
     "output_type": "execute_result"
    },
    {
     "data": {
      "image/png": "[encoded data removed]",
      "text/plain": [
       "<Figure size 640x480 with 2 Axes>"
      ]
     },
     "metadata": {},
     "output_type": "display_data"
    }
   ],
   "source": [
    "cm=confusion_matrix(y_val,y_pred)\n",
    "dis=ConfusionMatrixDisplay(confusion_matrix=cm)  \n",
    "dis.plot()"
   ]
  },
  {
   "cell_type": "markdown",
   "metadata": {},
   "source": [
    "vi) Model Testing"
   ]
  },
  {
   "cell_type": "code",
   "execution_count": 29,
   "metadata": {},
   "outputs": [],
   "source": [
    "input=pd.DataFrame({\n",
    "    'text':['i am going to commit suicide','i really like going to school to build my future dreams','i am going to kill her for leaving me']\n",
    "})"
   ]
  },
  {
   "cell_type": "code",
   "execution_count": 30,
   "metadata": {},
   "outputs": [],
   "source": [
    "input['text']=input['text'].apply(word_tokenize)\n",
    "input['text']=input['text'].apply(remove_stopwords)\n",
    "input['text']=input['text'].apply(lemmatize_words)\n",
    "input['text']=input['text'].apply(lambda x : ' '.join([index for index in x]))"
   ]
  },
  {
   "cell_type": "code",
   "execution_count": 31,
   "metadata": {},
   "outputs": [
    {
     "data": {
      "text/html": [
       "<div>\n",
       "<style scoped>\n",
       "    .dataframe tbody tr th:only-of-type {\n",
       "        vertical-align: middle;\n",
       "    }\n",
       "\n",
       "    .dataframe tbody tr th {\n",
       "        vertical-align: top;\n",
       "    }\n",
       "\n",
       "    .dataframe thead th {\n",
       "        text-align: right;\n",
       "    }\n",
       "</style>\n",
       "<table border=\"1\" class=\"dataframe\">\n",
       "  <thead>\n",
       "    <tr style=\"text-align: right;\">\n",
       "      <th></th>\n",
       "      <th>text</th>\n",
       "    </tr>\n",
       "  </thead>\n",
       "  <tbody>\n",
       "    <tr>\n",
       "      <th>0</th>\n",
       "      <td>go commit suicide</td>\n",
       "    </tr>\n",
       "    <tr>\n",
       "      <th>1</th>\n",
       "      <td>really like go school build future dream</td>\n",
       "    </tr>\n",
       "    <tr>\n",
       "      <th>2</th>\n",
       "      <td>go kill leave</td>\n",
       "    </tr>\n",
       "  </tbody>\n",
       "</table>\n",
       "</div>"
      ],
      "text/plain": [
       "                                       text\n",
       "0                         go commit suicide\n",
       "1  really like go school build future dream\n",
       "2                             go kill leave"
      ]
     },
     "execution_count": 31,
     "metadata": {},
     "output_type": "execute_result"
    }
   ],
   "source": [
    "input"
   ]
  },
  {
   "cell_type": "code",
   "execution_count": 32,
   "metadata": {},
   "outputs": [],
   "source": [
    "X_valid=vect.transform(input['text'])"
   ]
  },
  {
   "cell_type": "code",
   "execution_count": 33,
   "metadata": {},
   "outputs": [
    {
     "data": {
      "text/plain": [
       "<3x7503 sparse matrix of type '<class 'numpy.float64'>'\n",
       "\twith 13 stored elements in Compressed Sparse Row format>"
      ]
     },
     "execution_count": 33,
     "metadata": {},
     "output_type": "execute_result"
    }
   ],
   "source": [
    "X_valid"
   ]
  },
  {
   "cell_type": "code",
   "execution_count": 34,
   "metadata": {},
   "outputs": [],
   "source": [
    "input['predicted']=model.predict(X_valid)\n",
    "input['predicted']=input['predicted'].apply(lambda x : 'Stress' if x == 1 else 'Not Stress')"
   ]
  },
  {
   "cell_type": "code",
   "execution_count": 35,
   "metadata": {},
   "outputs": [
    {
     "data": {
      "text/html": [
       "<div>\n",
       "<style scoped>\n",
       "    .dataframe tbody tr th:only-of-type {\n",
       "        vertical-align: middle;\n",
       "    }\n",
       "\n",
       "    .dataframe tbody tr th {\n",
       "        vertical-align: top;\n",
       "    }\n",
       "\n",
       "    .dataframe thead th {\n",
       "        text-align: right;\n",
       "    }\n",
       "</style>\n",
       "<table border=\"1\" class=\"dataframe\">\n",
       "  <thead>\n",
       "    <tr style=\"text-align: right;\">\n",
       "      <th></th>\n",
       "      <th>text</th>\n",
       "      <th>predicted</th>\n",
       "    </tr>\n",
       "  </thead>\n",
       "  <tbody>\n",
       "    <tr>\n",
       "      <th>0</th>\n",
       "      <td>go commit suicide</td>\n",
       "      <td>Stress</td>\n",
       "    </tr>\n",
       "    <tr>\n",
       "      <th>1</th>\n",
       "      <td>really like go school build future dream</td>\n",
       "      <td>Not Stress</td>\n",
       "    </tr>\n",
       "    <tr>\n",
       "      <th>2</th>\n",
       "      <td>go kill leave</td>\n",
       "      <td>Stress</td>\n",
       "    </tr>\n",
       "  </tbody>\n",
       "</table>\n",
       "</div>"
      ],
      "text/plain": [
       "                                       text   predicted\n",
       "0                         go commit suicide      Stress\n",
       "1  really like go school build future dream  Not Stress\n",
       "2                             go kill leave      Stress"
      ]
     },
     "execution_count": 35,
     "metadata": {},
     "output_type": "execute_result"
    }
   ],
   "source": [
    "input"
   ]
  }
 ],
 "metadata": {
  "kernelspec": {
   "display_name": "Python 3",
   "language": "python",
   "name": "python3"
  },
  "language_info": {
   "codemirror_mode": {
    "name": "ipython",
    "version": 3
   },
   "file_extension": ".py",
   "mimetype": "text/x-python",
   "name": "python",
   "nbconvert_exporter": "python",
   "pygments_lexer": "ipython3",
   "version": "3.11.5"
  }
 },
 "nbformat": 4,
 "nbformat_minor": 2
}
